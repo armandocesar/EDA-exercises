{
  "nbformat": 4,
  "nbformat_minor": 0,
  "metadata": {
    "anaconda-cloud": {},
    "kernelspec": {
      "display_name": "Python 3",
      "language": "python",
      "name": "python3"
    },
    "language_info": {
      "codemirror_mode": {
        "name": "ipython",
        "version": 3
      },
      "file_extension": ".py",
      "mimetype": "text/x-python",
      "name": "python",
      "nbconvert_exporter": "python",
      "pygments_lexer": "ipython3",
      "version": "3.7.6"
    },
    "colab": {
      "name": "Exercicios_EDA.ipynb",
      "provenance": []
    }
  },
  "cells": [
    {
      "cell_type": "markdown",
      "metadata": {
        "id": "v4V01P5Lyy3a"
      },
      "source": [
        "![](https://i.imgur.com/JsMvGnP.png)\n"
      ]
    },
    {
      "cell_type": "markdown",
      "metadata": {
        "id": "oTnecKjxyy3k"
      },
      "source": [
        "## Exercício de análise exploratória de dados"
      ]
    },
    {
      "cell_type": "markdown",
      "metadata": {
        "id": "mAd9UeiUyy3m"
      },
      "source": [
        "Neste projeto você irá realizar uma análise estatística de um dos dataset mais famosos da comunidade de Data Science, o dataset **Titanic**.\n",
        "\n",
        "Esse dataset contém dados de 891 passageiros do Titanic. A análise vai ser guiada pelas perguntas apresentadas a seguir.\n",
        "\n",
        "O dataset disponibilizado tem quase a mesma estrutura de uma planilha do excel, com linhas e colunas. O tipo do arquivo é o CSV ou Comma-separated values, que seriam Valores Separados por Vírgula, porque é exatamente assim que ele funciona, você distingue que o valor pertence a diferentes colunas porque a vírgula está ali separando uns dos outros.\n",
        "\n",
        "O objetivo deste projeto é você aplicar os principais conceitos que você aprendeu na unidade 6.\n",
        "Todo o projeto deve ser executado neste Jupyter Notebook. Por fim, se desejar, revise as respostas com o seu mentor."
      ]
    },
    {
      "cell_type": "markdown",
      "metadata": {
        "id": "z1i7UrBlyy3n"
      },
      "source": [
        "### Descrição dos dados\n",
        "\n",
        "O dataset possui 891 registros (linhas) e 12 atributos (colunas).\n",
        "\n",
        "Abaixo estão as descrições das colunas do nosso Dataset:\n",
        "\n",
        "* passengerid = ID do passageiro do navio (código primário).\n",
        "* survived = Se sobreviveu ao naufrágio estará como 1 e caso esteja com 0 (zero) não sobreviveu.\n",
        "* pclass = Tipo de classe de passagem (Do 1 ao 3), sendo 1 a melhor classe e 3 a pior classe.\n",
        "* name = Nome do passageiro\n",
        "* sex = Gênero do passageiro, sendo masculino e feminino.\n",
        "* age = Idade do passageiro na data da ocorrência do naufrágio.\n",
        "* sibsp = Número de irmãos / cônjuges a bordo.\n",
        "* parch = Número de pais / filhos a bordo.\n",
        "* ticket = Código do ticket.\n",
        "* fare = Valor da passagem.\n",
        "* cabin = Código de identificação da Cabine.\n",
        "* embarked = Local ondem o passageiro embarcou no navio."
      ]
    },
    {
      "cell_type": "markdown",
      "metadata": {
        "id": "YZvHmA0Lyy3o"
      },
      "source": [
        "### Carregando os dados"
      ]
    },
    {
      "cell_type": "code",
      "metadata": {
        "id": "1WzxgXR0yy3o",
        "outputId": "84a7e1e9-ec30-4f6c-a9e8-4102ca0de6eb",
        "colab": {
          "base_uri": "https://localhost:8080/",
          "height": 221
        }
      },
      "source": [
        "import pandas as pd\n",
        "\n",
        "# Carregando os dados\n",
        "# O arquivo “titanic.csv” deve estar salvo na mesma pasta do seu código Python\n",
        "dados = pd.read_csv('https://raw.githubusercontent.com/armandocesar/EDA-exercises/master/titanic.csv')\n",
        "\n",
        "# Exibe o número de linhas e colunas\n",
        "print(dados.shape)\n",
        "\n",
        "# Exibe as 10 primeiras linhas\n",
        "dados.head()"
      ],
      "execution_count": 1,
      "outputs": [
        {
          "output_type": "stream",
          "text": [
            "(891, 12)\n"
          ],
          "name": "stdout"
        },
        {
          "output_type": "execute_result",
          "data": {
            "text/html": [
              "<div>\n",
              "<style scoped>\n",
              "    .dataframe tbody tr th:only-of-type {\n",
              "        vertical-align: middle;\n",
              "    }\n",
              "\n",
              "    .dataframe tbody tr th {\n",
              "        vertical-align: top;\n",
              "    }\n",
              "\n",
              "    .dataframe thead th {\n",
              "        text-align: right;\n",
              "    }\n",
              "</style>\n",
              "<table border=\"1\" class=\"dataframe\">\n",
              "  <thead>\n",
              "    <tr style=\"text-align: right;\">\n",
              "      <th></th>\n",
              "      <th>PassengerId</th>\n",
              "      <th>Survived</th>\n",
              "      <th>Pclass</th>\n",
              "      <th>Name</th>\n",
              "      <th>Sex</th>\n",
              "      <th>Age</th>\n",
              "      <th>SibSp</th>\n",
              "      <th>Parch</th>\n",
              "      <th>Ticket</th>\n",
              "      <th>Fare</th>\n",
              "      <th>Cabin</th>\n",
              "      <th>Embarked</th>\n",
              "    </tr>\n",
              "  </thead>\n",
              "  <tbody>\n",
              "    <tr>\n",
              "      <th>0</th>\n",
              "      <td>1</td>\n",
              "      <td>0</td>\n",
              "      <td>3</td>\n",
              "      <td>Braund, Mr. Owen Harris</td>\n",
              "      <td>male</td>\n",
              "      <td>22.0</td>\n",
              "      <td>1</td>\n",
              "      <td>0</td>\n",
              "      <td>A/5 21171</td>\n",
              "      <td>7.2500</td>\n",
              "      <td>NaN</td>\n",
              "      <td>S</td>\n",
              "    </tr>\n",
              "    <tr>\n",
              "      <th>1</th>\n",
              "      <td>2</td>\n",
              "      <td>1</td>\n",
              "      <td>1</td>\n",
              "      <td>Cumings, Mrs. John Bradley (Florence Briggs Th...</td>\n",
              "      <td>female</td>\n",
              "      <td>38.0</td>\n",
              "      <td>1</td>\n",
              "      <td>0</td>\n",
              "      <td>PC 17599</td>\n",
              "      <td>71.2833</td>\n",
              "      <td>C85</td>\n",
              "      <td>C</td>\n",
              "    </tr>\n",
              "    <tr>\n",
              "      <th>2</th>\n",
              "      <td>3</td>\n",
              "      <td>1</td>\n",
              "      <td>3</td>\n",
              "      <td>Heikkinen, Miss. Laina</td>\n",
              "      <td>female</td>\n",
              "      <td>26.0</td>\n",
              "      <td>0</td>\n",
              "      <td>0</td>\n",
              "      <td>STON/O2. 3101282</td>\n",
              "      <td>7.9250</td>\n",
              "      <td>NaN</td>\n",
              "      <td>S</td>\n",
              "    </tr>\n",
              "    <tr>\n",
              "      <th>3</th>\n",
              "      <td>4</td>\n",
              "      <td>1</td>\n",
              "      <td>1</td>\n",
              "      <td>Futrelle, Mrs. Jacques Heath (Lily May Peel)</td>\n",
              "      <td>female</td>\n",
              "      <td>35.0</td>\n",
              "      <td>1</td>\n",
              "      <td>0</td>\n",
              "      <td>113803</td>\n",
              "      <td>53.1000</td>\n",
              "      <td>C123</td>\n",
              "      <td>S</td>\n",
              "    </tr>\n",
              "    <tr>\n",
              "      <th>4</th>\n",
              "      <td>5</td>\n",
              "      <td>0</td>\n",
              "      <td>3</td>\n",
              "      <td>Allen, Mr. William Henry</td>\n",
              "      <td>male</td>\n",
              "      <td>35.0</td>\n",
              "      <td>0</td>\n",
              "      <td>0</td>\n",
              "      <td>373450</td>\n",
              "      <td>8.0500</td>\n",
              "      <td>NaN</td>\n",
              "      <td>S</td>\n",
              "    </tr>\n",
              "  </tbody>\n",
              "</table>\n",
              "</div>"
            ],
            "text/plain": [
              "   PassengerId  Survived  Pclass  ...     Fare Cabin  Embarked\n",
              "0            1         0       3  ...   7.2500   NaN         S\n",
              "1            2         1       1  ...  71.2833   C85         C\n",
              "2            3         1       3  ...   7.9250   NaN         S\n",
              "3            4         1       1  ...  53.1000  C123         S\n",
              "4            5         0       3  ...   8.0500   NaN         S\n",
              "\n",
              "[5 rows x 12 columns]"
            ]
          },
          "metadata": {
            "tags": []
          },
          "execution_count": 1
        }
      ]
    },
    {
      "cell_type": "markdown",
      "metadata": {
        "id": "QNoCgLrVyy3r"
      },
      "source": [
        "### 1. Qual foi a porcentagem dos passageiros sobreviventes?\n",
        "\n",
        "Dica: use a função value_counts() do pandas com o parâmetro _normalize_"
      ]
    },
    {
      "cell_type": "code",
      "metadata": {
        "id": "jkoT6X7Iyy3r",
        "outputId": "587e9bd0-053d-4c6a-e920-52da5b7691ee",
        "colab": {
          "base_uri": "https://localhost:8080/"
        }
      },
      "source": [
        "dados['Survived'].value_counts(normalize=True)"
      ],
      "execution_count": 3,
      "outputs": [
        {
          "output_type": "execute_result",
          "data": {
            "text/plain": [
              "0    0.616162\n",
              "1    0.383838\n",
              "Name: Survived, dtype: float64"
            ]
          },
          "metadata": {
            "tags": []
          },
          "execution_count": 3
        }
      ]
    },
    {
      "cell_type": "code",
      "metadata": {
        "id": "Lenu87e3yy3s",
        "outputId": "af05bacf-5278-4213-e13b-592997e5e712",
        "colab": {
          "base_uri": "https://localhost:8080/"
        }
      },
      "source": [
        "dados['Survived'].value_counts(normalize=False)"
      ],
      "execution_count": 5,
      "outputs": [
        {
          "output_type": "execute_result",
          "data": {
            "text/plain": [
              "0    549\n",
              "1    342\n",
              "Name: Survived, dtype: int64"
            ]
          },
          "metadata": {
            "tags": []
          },
          "execution_count": 5
        }
      ]
    },
    {
      "cell_type": "markdown",
      "metadata": {
        "id": "0kWMlG7Iyy3s"
      },
      "source": [
        "### 2. Qual era a faixa etária dos passageiros que estavam no Titanic?"
      ]
    },
    {
      "cell_type": "code",
      "metadata": {
        "id": "nYMBR-Iayy3t"
      },
      "source": [
        "min = dados['Age'].min()\n",
        "max = dados['Age'].max()"
      ],
      "execution_count": 7,
      "outputs": []
    },
    {
      "cell_type": "code",
      "metadata": {
        "id": "vzKE7zWCyy3t",
        "outputId": "f7d40e7f-df58-45b5-8be5-10dec01890bc",
        "colab": {
          "base_uri": "https://localhost:8080/"
        }
      },
      "source": [
        "print('De {} a {}'.format(min,max))"
      ],
      "execution_count": 8,
      "outputs": [
        {
          "output_type": "stream",
          "text": [
            "De 0.42 a 80.0\n"
          ],
          "name": "stdout"
        }
      ]
    },
    {
      "cell_type": "markdown",
      "metadata": {
        "id": "3dYdnIR0yy3u"
      },
      "source": [
        "### 3. Qual porcentagem de homens e mulheres sobreviventes?"
      ]
    },
    {
      "cell_type": "code",
      "metadata": {
        "id": "gHbeCw2O1-fp"
      },
      "source": [
        "mulheres = dados[dados['Sex']=='female']['Survived'].value_counts()[1]/dados[dados['Sex']=='female']['Sex'].count()"
      ],
      "execution_count": 56,
      "outputs": []
    },
    {
      "cell_type": "code",
      "metadata": {
        "id": "SyFoe1pGyy3u"
      },
      "source": [
        "homens = dados[dados['Sex']=='male']['Survived'].value_counts()[1]/dados[dados['Sex']=='male']['Sex'].count()"
      ],
      "execution_count": 57,
      "outputs": []
    },
    {
      "cell_type": "code",
      "metadata": {
        "id": "ATC7__eeyy3u",
        "outputId": "d44171bd-e2ca-4aca-e0ac-c6134ed30b66",
        "colab": {
          "base_uri": "https://localhost:8080/"
        }
      },
      "source": [
        "print('Mulheres: {} \\nHomens: {}'.format(mulheres, homens))"
      ],
      "execution_count": 62,
      "outputs": [
        {
          "output_type": "stream",
          "text": [
            "Mulheres: 0.7420382165605095 \n",
            "Homens: 0.18890814558058924\n"
          ],
          "name": "stdout"
        }
      ]
    },
    {
      "cell_type": "markdown",
      "metadata": {
        "id": "p81MW1Nqyy3v"
      },
      "source": [
        "### 4. Quais os tipos de variáveis nas colunas survived, pclass, name, sex e age?\n",
        "\n",
        "[Dica ...](# Referência: http://professorguru.com.br/estatistica/introdu%C3%A7%C3%A3o%20%C3%A0%20estat%C3%ADstica/tipos%20de%20vari%C3%A1veis%20estat%C3%ADsticas.html)"
      ]
    },
    {
      "cell_type": "code",
      "metadata": {
        "id": "NJsasH3I6Se0",
        "outputId": "4129cd5a-2f4d-47bb-83ae-f1cfe34d8ed1",
        "colab": {
          "base_uri": "https://localhost:8080/"
        }
      },
      "source": [
        "dados.info()"
      ],
      "execution_count": 70,
      "outputs": [
        {
          "output_type": "stream",
          "text": [
            "<class 'pandas.core.frame.DataFrame'>\n",
            "RangeIndex: 891 entries, 0 to 890\n",
            "Data columns (total 12 columns):\n",
            " #   Column       Non-Null Count  Dtype  \n",
            "---  ------       --------------  -----  \n",
            " 0   PassengerId  891 non-null    int64  \n",
            " 1   Survived     891 non-null    int64  \n",
            " 2   Pclass       891 non-null    int64  \n",
            " 3   Name         891 non-null    object \n",
            " 4   Sex          891 non-null    object \n",
            " 5   Age          714 non-null    float64\n",
            " 6   SibSp        891 non-null    int64  \n",
            " 7   Parch        891 non-null    int64  \n",
            " 8   Ticket       891 non-null    object \n",
            " 9   Fare         891 non-null    float64\n",
            " 10  Cabin        204 non-null    object \n",
            " 11  Embarked     889 non-null    object \n",
            "dtypes: float64(2), int64(5), object(5)\n",
            "memory usage: 83.7+ KB\n"
          ],
          "name": "stdout"
        }
      ]
    },
    {
      "cell_type": "code",
      "metadata": {
        "id": "McNVN8dX6Hx-",
        "outputId": "15eb31f1-b5ce-4a8c-9843-a5f67a755558",
        "colab": {
          "base_uri": "https://localhost:8080/"
        }
      },
      "source": [
        "print('Qualitativa Nominal : Name, Survived, Sex, \\nQualitativa Ordinal : plcass \\nQuantitativa Discreta : \\nQuantitativa Contínua : Age ')"
      ],
      "execution_count": 75,
      "outputs": [
        {
          "output_type": "stream",
          "text": [
            "Qualitativa Nominal : Name, Survived, Sex, \n",
            "Qualitativa Ordinal : plcass \n",
            "Quantitativa Discreta : \n",
            "Quantitativa Contínua : Age \n"
          ],
          "name": "stdout"
        }
      ]
    },
    {
      "cell_type": "code",
      "metadata": {
        "id": "YBQHnNT5yy3w"
      },
      "source": [
        "# Resposta excluída propositalmente"
      ],
      "execution_count": null,
      "outputs": []
    },
    {
      "cell_type": "markdown",
      "metadata": {
        "id": "JZXBiXUyyy3w"
      },
      "source": [
        "### 5. Qual o tipo de classe de passagem mais frequente nos dados?"
      ]
    },
    {
      "cell_type": "code",
      "metadata": {
        "id": "FCfBNWKPyy3w",
        "outputId": "7c13d417-ba3e-4ab4-ddac-b0fa35fa0054",
        "colab": {
          "base_uri": "https://localhost:8080/"
        }
      },
      "source": [
        "dados['Pclass'].value_counts()"
      ],
      "execution_count": 78,
      "outputs": [
        {
          "output_type": "execute_result",
          "data": {
            "text/plain": [
              "3    491\n",
              "1    216\n",
              "2    184\n",
              "Name: Pclass, dtype: int64"
            ]
          },
          "metadata": {
            "tags": []
          },
          "execution_count": 78
        }
      ]
    },
    {
      "cell_type": "code",
      "metadata": {
        "id": "Vs5UGktiyy3x",
        "outputId": "e95d6057-8c39-4234-de4d-32f53e8c149e"
      },
      "source": [
        ""
      ],
      "execution_count": null,
      "outputs": [
        {
          "output_type": "execute_result",
          "data": {
            "text/plain": [
              "3    491\n",
              "1    216\n",
              "2    184\n",
              "Name: Pclass, dtype: int64"
            ]
          },
          "metadata": {
            "tags": []
          },
          "execution_count": 46
        }
      ]
    },
    {
      "cell_type": "markdown",
      "metadata": {
        "id": "BTYYXWP9yy3x"
      },
      "source": [
        "### 6. Qual a média e desvio padrão do valor das passagens?"
      ]
    },
    {
      "cell_type": "code",
      "metadata": {
        "id": "FTgvKM4cyy3x"
      },
      "source": [
        "media = dados['Fare'].mean()\n",
        "dp = dados['Fare'].std()"
      ],
      "execution_count": 79,
      "outputs": []
    },
    {
      "cell_type": "code",
      "metadata": {
        "id": "ZmnS372tyy3y",
        "outputId": "b98543f9-4502-4f05-8c38-622465f48e6c",
        "colab": {
          "base_uri": "https://localhost:8080/"
        }
      },
      "source": [
        "print('Média: {}\\nDesvio Padrão: {}'.format(media,dp))"
      ],
      "execution_count": 81,
      "outputs": [
        {
          "output_type": "stream",
          "text": [
            "Média: 32.2042079685746\n",
            "Desvio Padrão: 49.693428597180905\n"
          ],
          "name": "stdout"
        }
      ]
    },
    {
      "cell_type": "code",
      "metadata": {
        "id": "jYEK5aqDyy3y"
      },
      "source": [
        ""
      ],
      "execution_count": null,
      "outputs": []
    },
    {
      "cell_type": "markdown",
      "metadata": {
        "id": "80cewiOryy3y"
      },
      "source": [
        "### 7. Existem outliers na coluna age? Quais? Crie um boxplot para esse atributo."
      ]
    },
    {
      "cell_type": "code",
      "metadata": {
        "id": "xcUhDQ-0yy3z",
        "outputId": "500dfc7b-2ea3-45b6-8a53-b16ecf27b2ec",
        "colab": {
          "base_uri": "https://localhost:8080/",
          "height": 265
        }
      },
      "source": [
        "import seaborn as sns\n",
        "sns.set_style('darkgrid')\n",
        "sns.boxplot(y = dados['Age'])"
      ],
      "execution_count": 86,
      "outputs": [
        {
          "output_type": "execute_result",
          "data": {
            "text/plain": [
              "<matplotlib.axes._subplots.AxesSubplot at 0x7ff199baf400>"
            ]
          },
          "metadata": {
            "tags": []
          },
          "execution_count": 86
        },
        {
          "output_type": "display_data",
          "data": {
            "image/png": "[encoded data removed]",
            "text/plain": [
              "<Figure size 432x288 with 1 Axes>"
            ]
          },
          "metadata": {
            "tags": []
          }
        }
      ]
    },
    {
      "cell_type": "code",
      "metadata": {
        "id": "2yjl2FTEyy3z",
        "outputId": "fbc0f9cf-7e68-4f31-ae83-72c76668cd55"
      },
      "source": [
        ""
      ],
      "execution_count": null,
      "outputs": [
        {
          "output_type": "execute_result",
          "data": {
            "text/plain": [
              "<matplotlib.axes._subplots.AxesSubplot at 0x11c3903d0>"
            ]
          },
          "metadata": {
            "tags": []
          },
          "execution_count": 56
        },
        {
          "output_type": "display_data",
          "data": {
            "image/png": "[encoded data removed]",
            "text/plain": [
              "<Figure size 432x288 with 1 Axes>"
            ]
          },
          "metadata": {
            "tags": [],
            "needs_background": "light"
          }
        }
      ]
    },
    {
      "cell_type": "markdown",
      "metadata": {
        "id": "5Rxyq0Isyy3z"
      },
      "source": [
        "### 8. Cria um histograma para os atributos age, pclass e fare. Quais informações você pode extrair desses gráficos?\n"
      ]
    },
    {
      "cell_type": "code",
      "metadata": {
        "id": "1GsbkvGiyy30",
        "outputId": "7e06a6dc-f7a1-4526-b85f-1964b74c4a79",
        "colab": {
          "base_uri": "https://localhost:8080/",
          "height": 497
        }
      },
      "source": [
        "import matplotlib.pyplot as plt\n",
        "import numpy as np\n",
        "\n",
        "f, axes = plt.subplots(2, 2, figsize=(8,8), sharey=False, sharex=False)\n",
        "a0,a1,a2, a3 = axes.flatten()\n",
        "\n",
        "sns.histplot(dados['Age'], ax=a0)\n",
        "sns.histplot(dados['Pclass'], ax=a1)\n",
        "sns.histplot(dados['Fare'], bins=10, ax=a2)\n",
        "\n",
        "f.delaxes(a3)"
      ],
      "execution_count": 134,
      "outputs": [
        {
          "output_type": "display_data",
          "data": {
            "image/png": "[encoded data removed]",
            "text/plain": [
              "<Figure size 576x576 with 3 Axes>"
            ]
          },
          "metadata": {
            "tags": []
          }
        }
      ]
    },
    {
      "cell_type": "code",
      "metadata": {
        "id": "2NF8Dvewyy30"
      },
      "source": [
        ""
      ],
      "execution_count": null,
      "outputs": []
    }
  ]
}